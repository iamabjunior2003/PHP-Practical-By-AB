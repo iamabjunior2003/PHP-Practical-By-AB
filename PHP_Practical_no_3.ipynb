{
  "nbformat": 4,
  "nbformat_minor": 0,
  "metadata": {
    "colab": {
      "name": "PHP Practical no 3",
      "provenance": [],
      "authorship_tag": "ABX9TyMX84k70+lYqS0XzHqaC3pM"
    },
    "kernelspec": {
      "name": "python3",
      "display_name": "Python 3"
    },
    "language_info": {
      "name": "python"
    }
  },
  "cells": [
    {
      "cell_type": "code",
      "execution_count": null,
      "metadata": {
        "id": "OdeoRV6axVVi"
      },
      "outputs": [],
      "source": [
        "Write a PHP program to demonstrate the use of looping structures \n",
        "using:-\n",
        "(a) While Statement\n",
        "\n",
        "<html>\n",
        "<title>Looping statement</title>\n",
        "<body>\n",
        "<?php\n",
        " $x=1;\n",
        " while($x<=5)\n",
        " {\n",
        " echo \"<br>$x\";\n",
        " $x++;\n",
        " }\n",
        "?>\n",
        "</body>\n",
        "</html>"
      ]
    },
    {
      "cell_type": "code",
      "source": [
        "(b) Do-while Statement\n",
        "\n",
        "<html>\n",
        "<title>Looping statement</title>\n",
        "<body>\n",
        "<?php\n",
        " $x=1;\n",
        " do\n",
        " {\n",
        " echo \"<br>$x\";\n",
        " $x++;\n",
        " } while($x<=5);\n",
        "?>\n",
        "</body>\n",
        "</html>"
      ],
      "metadata": {
        "id": "3ct2IoEQxekE"
      },
      "execution_count": null,
      "outputs": []
    },
    {
      "cell_type": "code",
      "source": [
        "(C )For Statement\n",
        "\n",
        " <html>\n",
        "<title>looping statement</title>\n",
        "<body>\n",
        "<?php\n",
        " for($x=1;$x<=10;$x++)\n",
        " {\n",
        " echo \"<br>$x\";\n",
        " }\n",
        "?>\n",
        "</body>\n",
        "</html>"
      ],
      "metadata": {
        "id": "FmzUqT9Zxin3"
      },
      "execution_count": null,
      "outputs": []
    },
    {
      "cell_type": "code",
      "source": [
        "(d)Foreach Statement\n",
        "\n",
        "<html>\n",
        "<title>looping statement</title>\n",
        "<body>\n",
        "<?php\n",
        " $cr=array(\"red\",\"green\",\"blue\",\"yellow\");\n",
        " foreach($cr as $value)\n",
        " {\n",
        " echo \"<br>$value\";\n",
        " }\n",
        "?>\n",
        "</body>\n",
        "</html>"
      ],
      "metadata": {
        "id": "r_tIQy9TxmiK"
      },
      "execution_count": null,
      "outputs": []
    }
  ]
}