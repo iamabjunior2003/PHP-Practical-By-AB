{
  "nbformat": 4,
  "nbformat_minor": 0,
  "metadata": {
    "colab": {
      "name": "PHP Practical no 4",
      "provenance": [],
      "authorship_tag": "ABX9TyMep/n1EbN6T+j7piSm2k06",
      "include_colab_link": true
    },
    "kernelspec": {
      "name": "python3",
      "display_name": "Python 3"
    },
    "language_info": {
      "name": "python"
    }
  },
  "cells": [
    {
      "cell_type": "markdown",
      "metadata": {
        "id": "view-in-github",
        "colab_type": "text"
      },
      "source": [
        "<a href=\"https://colab.research.google.com/github/iamabjunior2003/PHP-Practical-By-AB/blob/main/PHP_Practical_no_4.ipynb\" target=\"_parent\"><img src=\"https://colab.research.google.com/assets/colab-badge.svg\" alt=\"Open In Colab\"/></a>"
      ]
    },
    {
      "cell_type": "code",
      "execution_count": null,
      "metadata": {
        "id": "5QmFlbcyx5L6"
      },
      "outputs": [],
      "source": [
        "Write a PHP program to :-\n",
        "(a)\n",
        "(i) Calculate length of string\n",
        "\n",
        "<html>\n",
        "<title>string length</title>\n",
        "<body>\n",
        "<?php\n",
        " $str='Ab.jr';\n",
        " echo 'Length of Ab.jr is:',strlen($str);\n",
        "?>\n",
        "</body>\n",
        "</html>"
      ]
    },
    {
      "cell_type": "code",
      "source": [
        "(ii) Count the number of word in string without using string \n",
        "functions:-\n",
        "\n",
        "<html>\n",
        "<title>string length</title>\n",
        "<body>\n",
        "<?php\n",
        " $str='AB.jr';\n",
        " $i=0;\n",
        " while($str[$i]!=' ')\n",
        " {\n",
        " $i++;\n",
        " }\n",
        "echo 'Length of Ab.jr is:',$i;\n",
        "?>\n",
        "</body>\n",
        "</html>\n"
      ],
      "metadata": {
        "id": "jXDsHt1cyMBl"
      },
      "execution_count": null,
      "outputs": []
    },
    {
      "cell_type": "code",
      "source": [
        "(b) Write a simple PHP program to demonstrate use of various built-in string \n",
        "functions.\n",
        "\n",
        "<html>\n",
        "<title>string length</title>\n",
        "<body>\n",
        "<?php\n",
        " $str='Aditya AB';\n",
        " echo '<br>Length of Aditya AB string is:',strlen($str);\n",
        " echo '<br>words in Aditya AB string is:',str_word_count($str);\n",
        " echo '<br>reverse of Aditya AB string is:',strrev($str);\n",
        " echo '<br>position of AB in Aditya AB string \n",
        "is:',strpos($str,\"AB\");\n",
        " echo '<br>Replacing string is:',str_replace(\"AB\",\"ab\",$str);\n",
        "?>\n",
        "</body>\n",
        "</html>"
      ],
      "metadata": {
        "id": "sc8qHakSyRUJ"
      },
      "execution_count": null,
      "outputs": []
    }
  ]
}