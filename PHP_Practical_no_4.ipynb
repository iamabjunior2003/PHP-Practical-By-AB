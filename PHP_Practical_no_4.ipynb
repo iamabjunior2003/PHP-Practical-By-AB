{
  "nbformat": 4,
  "nbformat_minor": 0,
  "metadata": {
    "colab": {
      "name": "PHP Practical no 4",
      "provenance": [],
      "authorship_tag": "ABX9TyMbTY0zMWoGwMJ58RlyS5p9"
    },
    "kernelspec": {
      "name": "python3",
      "display_name": "Python 3"
    },
    "language_info": {
      "name": "python"
    }
  },
  "cells": [
    {
      "cell_type": "code",
      "execution_count": null,
      "metadata": {
        "id": "5QmFlbcyx5L6"
      },
      "outputs": [],
      "source": [
        "Write a PHP program to :-\n",
        "(a)\n",
        "(i) Calculate length of string\n",
        "\n",
        "<html>\n",
        "<title>string length</title>\n",
        "<body>\n",
        "<?php\n",
        " $str='Rutuja Chavan';\n",
        " echo 'Length of Rutuja Chavan is:',strlen($str);\n",
        "?>\n",
        "</body>\n",
        "</html>"
      ]
    },
    {
      "cell_type": "code",
      "source": [
        "(ii) Count the number of word in string without using string \n",
        "functions:-\n",
        "\n",
        "<html>\n",
        "<title>string length</title>\n",
        "<body>\n",
        "<?php\n",
        " $str='Rutuja Chavan';\n",
        " $i=0;\n",
        " while($str[$i]!=' ')\n",
        " {\n",
        " $i++;\n",
        " }\n",
        "echo 'Length of Rutuja Chavan is:',$i;\n",
        "?>\n",
        "</body>\n",
        "</html>\n"
      ],
      "metadata": {
        "id": "jXDsHt1cyMBl"
      },
      "execution_count": null,
      "outputs": []
    },
    {
      "cell_type": "code",
      "source": [
        "(b) Write a simple PHP program to demonstrate use of various built-in string \n",
        "functions.\n",
        "\n",
        "<html>\n",
        "<title>string length</title>\n",
        "<body>\n",
        "<?php\n",
        " $str='Rutuja Chavan';\n",
        " echo '<br>Length of Rutuja Chavan string is:',strlen($str);\n",
        " echo '<br>words in Rutuja Chavan string is:',str_word_count($str);\n",
        " echo '<br>reverse of Rutuja Chavan string is:',strrev($str);\n",
        " echo '<br>position of chavan in Rutuja Chavan string \n",
        "is:',strpos($str,\"Chavan\");\n",
        " echo '<br>Replacing string is:',str_replace(\"Chavan\",\"rutuja\",$str);\n",
        "?>\n",
        "</body>\n",
        "</html>"
      ],
      "metadata": {
        "id": "sc8qHakSyRUJ"
      },
      "execution_count": null,
      "outputs": []
    }
  ]
}