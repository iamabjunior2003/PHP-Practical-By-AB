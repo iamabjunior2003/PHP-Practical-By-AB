{
  "nbformat": 4,
  "nbformat_minor": 0,
  "metadata": {
    "colab": {
      "name": "PHP Practical no 2",
      "provenance": [],
      "authorship_tag": "ABX9TyM1GNsmz8/ykApzoUi9QAoz",
      "include_colab_link": true
    },
    "kernelspec": {
      "name": "python3",
      "display_name": "Python 3"
    },
    "language_info": {
      "name": "python"
    }
  },
  "cells": [
    {
      "cell_type": "markdown",
      "metadata": {
        "id": "view-in-github",
        "colab_type": "text"
      },
      "source": [
        "<a href=\"https://colab.research.google.com/github/iamabjunior2003/PHP-Practical-By-AB/blob/main/PHP_Practical_no_2.ipynb\" target=\"_parent\"><img src=\"https://colab.research.google.com/assets/colab-badge.svg\" alt=\"Open In Colab\"/></a>"
      ]
    },
    {
      "cell_type": "code",
      "execution_count": null,
      "metadata": {
        "id": "xkcNn1WMwZAP"
      },
      "outputs": [],
      "source": [
        "Write a PHP program to demonstrate the use of decision making \n",
        "control structure using:-\n",
        "(a) If-Statement\n",
        "\n",
        "<html>\n",
        "<title>If statement</title>\n",
        "<body>\n",
        "<?php\n",
        " $x=2;\n",
        " if($x%2==0)\n",
        " {\n",
        " echo \"Number is positive\";\n",
        " }\n",
        "?>\n",
        "</body>\n",
        "</html>"
      ]
    },
    {
      "cell_type": "code",
      "source": [
        "(b) If-else\n",
        "\n",
        "<html>\n",
        "<title>If else statement</title>\n",
        "<body>\n",
        "<?php\n",
        " $x=3;\n",
        " if($x%2==0)\n",
        " {\n",
        " echo \"Number is positive\";\n",
        " }\n",
        " else\n",
        " {\n",
        " echo \"Number is negative\";\n",
        " }\n",
        "?>\n",
        "</body>\n",
        "</html>"
      ],
      "metadata": {
        "id": "jGF5iOrfwxBz"
      },
      "execution_count": null,
      "outputs": []
    },
    {
      "cell_type": "code",
      "source": [
        "(c) Switch Statement\n",
        "\n",
        "<html>\n",
        "<title>Switch Statement</title>\n",
        "<body>\n",
        "<?php\n",
        " $ch=3;\n",
        " echo \"<br>choice is :\",$ch;\n",
        " switch($ch)\n",
        " {\n",
        " case 1:\n",
        " echo \"<br>One\";\n",
        " break;\n",
        " case 2:\n",
        " echo \"<br>Two\";\n",
        " break;\n",
        " case 3:\n",
        " echo \"<br>Three\";\n",
        " break;\n",
        " case 4:\n",
        " echo \"<br>Four\";\n",
        " break;\n",
        " default:\n",
        " echo \"<br>Please try later..\";\n",
        " }\n",
        "?>\n",
        "</body>\n",
        "</html>"
      ],
      "metadata": {
        "id": "Dl1CoJ9rw6UR"
      },
      "execution_count": null,
      "outputs": []
    }
  ]
}