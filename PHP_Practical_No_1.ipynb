{
  "nbformat": 4,
  "nbformat_minor": 0,
  "metadata": {
    "colab": {
      "name": "PHP Practical No 1",
      "provenance": [],
      "collapsed_sections": [],
      "authorship_tag": "ABX9TyOB5NKRabstZTV/tnxrE8Dm"
    },
    "kernelspec": {
      "name": "python3",
      "display_name": "Python 3"
    },
    "language_info": {
      "name": "python"
    }
  },
  "cells": [
    {
      "cell_type": "code",
      "execution_count": null,
      "metadata": {
        "id": "8ZyfdtfLtcDA"
      },
      "outputs": [],
      "source": [
        "Write a PHP program to :-\n",
        "(a) Write a program to print “Welcome to PHP”\n",
        "\n",
        "<html>\n",
        "<title>Assignment no 1</title>\n",
        "<body>\n",
        "<?php\n",
        " echo \"Welcome to PHP\";\n",
        "?>\n",
        "</body>\n",
        "</html>"
      ]
    },
    {
      "cell_type": "code",
      "source": [
        "(b) Write a simple PHP program using expressions and operators.\n",
        "\n",
        "<html>\n",
        "<title>Expression and Operators</title>\n",
        "<body>\n",
        "<?php\n",
        " $x=10;\n",
        " $y=20;\n",
        " echo \"<br>x=\",$x;\n",
        " echo \"<br>y=\",$y;\n",
        " echo \"<br>Addition=\",$x+$y,\"<br>\";\n",
        " echo \"<br>Subtraction=\",$x-$y;\n",
        "?>\n",
        "</body>\n",
        "</html>\n"
      ],
      "metadata": {
        "id": "8LC-R9zRulI4"
      },
      "execution_count": null,
      "outputs": []
    }
  ]
}