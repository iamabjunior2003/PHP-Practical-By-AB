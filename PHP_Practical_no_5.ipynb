{
  "nbformat": 4,
  "nbformat_minor": 0,
  "metadata": {
    "colab": {
      "name": "PHP Practical no 5",
      "provenance": [],
      "authorship_tag": "ABX9TyNukkcErVg33MOa9VNNCHns"
    },
    "kernelspec": {
      "name": "python3",
      "display_name": "Python 3"
    },
    "language_info": {
      "name": "python"
    }
  },
  "cells": [
    {
      "cell_type": "code",
      "execution_count": null,
      "metadata": {
        "id": "Uj2t_TOXyom6"
      },
      "outputs": [],
      "source": [
        "Write a simple PHP program to demonstrate use of simple function and \n",
        "parameterized function.\n",
        "(a) Simple Function\n",
        "\n",
        "<html>\n",
        "<title>Simple function</title>\n",
        "<body>\n",
        "<?php\n",
        " function name()\n",
        " {\n",
        " echo \"IAMABJUNIOR<br>\";\n",
        " }\n",
        " name();\n",
        "?>\n",
        "</body>\n",
        "</html>"
      ]
    },
    {
      "cell_type": "code",
      "source": [
        "(b) Parameterized Function\n",
        "\n",
        "<html>\n",
        "<title>Parameterized function</title>\n",
        "<body>\n",
        "<?php\n",
        " function name($fname)\n",
        " {\n",
        " echo \"$fname AB <br>\";\n",
        " }\n",
        " name(\"Adity6a\");\n",
        "?>\n",
        "</body>\n",
        "</html>"
      ],
      "metadata": {
        "id": "fmr_sh10y2Ke"
      },
      "execution_count": null,
      "outputs": []
    }
  ]
}